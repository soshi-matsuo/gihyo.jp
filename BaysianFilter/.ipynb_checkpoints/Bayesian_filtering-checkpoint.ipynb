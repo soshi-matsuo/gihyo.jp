{
 "cells": [
  {
   "cell_type": "markdown",
   "metadata": {},
   "source": [
    "# NaiveBayes algorithm\n",
    "- 文書をdoc, 文書が属すべきカテゴリをcatとする\n",
    "- **ベイズの公式より、P(cat|doc) = P(doc|cat) * P(cat) / P(doc)**\n",
    "- **P(cat|doc)の大小関係を求めれば、ある文書が与えられた際にどのカテゴリに属すのが尤もらしいか？を判断できる**  \n",
    "- P(doc)は文章の生起する確率であり、今回は影響しないので、P(doc|cat) * P(cat)を各文書について計算して比較すればOK  \n",
    "- P(doc|cat)は、あるカテゴリが与えられたときの文章の生起確率である。ここで、文書を何らかの単語のリストとみなし、さらに**各々の単語の独立性を仮定する**と、P(doc|cat)はP(word1|cat) * P(word2|cat) * ... P(wordn|cat)と表せる →　ナイーブ（単純な）ベイズの由来 \n",
    "- P(wordn|cat)は、分割した単語があるカテゴリに属する確率であり、ある単語がそのカテゴリに出現した回数/そのカテゴリ内の全単語の出現回数の総和で求まる\n",
    "- P(cat)は、あるカテゴリに属する文書の数/文書総数でOK  \n"
   ]
  },
  {
   "cell_type": "markdown",
   "metadata": {},
   "source": [
    "# Implement"
   ]
  },
  {
   "cell_type": "code",
   "execution_count": 6,
   "metadata": {
    "ExecuteTime": {
     "end_time": "2018-11-29T07:39:04.722708Z",
     "start_time": "2018-11-29T07:39:04.714526Z"
    }
   },
   "outputs": [],
   "source": [
    "import math\n",
    "import sys\n",
    "from mecab_split import mecab_split"
   ]
  },
  {
   "cell_type": "code",
   "execution_count": 20,
   "metadata": {
    "ExecuteTime": {
     "end_time": "2018-11-29T07:52:35.044214Z",
     "start_time": "2018-11-29T07:52:35.035183Z"
    }
   },
   "outputs": [],
   "source": [
    "class NaiveBayes:\n",
    "    def __init__(self):\n",
    "        self.vocabularies = set()\n",
    "        # あるカテゴリ中に、あるワードが登場した回数\n",
    "        self.wordcount = {} # {category1:{word1:n, word2:n,...}, category2:{...}}\n",
    "        # あるカテゴリが登場した回数\n",
    "        self.catcount = {} # {category1:n, category2:n...}\n",
    "        \n",
    "    def wordcountup(self, word, cat):\n",
    "        self.wordcount.setdefault(cat, {})\n",
    "        self.wordcount[cat].setdefault(word, 0)\n",
    "        self.wordcount[cat][word] += 1\n",
    "        self.vocabularies.add(word)\n",
    "        \n",
    "    def catcountup(self, cat):\n",
    "        self.catcount.setdefault(cat, 0)\n",
    "        self.catcount[cat] += 1\n",
    "    \n",
    "    def train(self, doc, cat):\n",
    "        word = mecab_split(doc)\n",
    "        for w in word:\n",
    "            self.wordcountup(w, cat)\n",
    "        self.catcountup(cat)\n",
    "        \n",
    "    def priorprob(self, cat):\n",
    "        # P(cat)を求める\n",
    "        # catカテゴリに分類された回数/総文書数\n",
    "        return float(self.catcount[cat]) / sum(self.catcount.values())\n",
    "        \n",
    "    def incategory(self, word, cat):\n",
    "        # あるカテゴリの中に単語が登場した回数を返す\n",
    "        if word in self.wordcount[cat]:\n",
    "            return float(self.wordcount[cat][word])\n",
    "        return 0.0\n",
    "    \n",
    "    def wordprob(self, word, cat):\n",
    "        # P(word|cat)が生起する確率を求める\n",
    "        # ある単語がそのカテゴリに出現した回数/そのカテゴリ内の全単語の出現回数の総和\n",
    "        # 1.0を足すのはスムージングのため(訓練データでは登場しなかった単語のP(doc|cat)がゼロになるのを防ぐ)\n",
    "        prob = (self.incategory(word, cat) + 1.0) /\\\n",
    "            (sum(self.wordcount[cat].values()) + len(self.vocabularies) * 1.0)\n",
    "        return prob\n",
    "    \n",
    "    def score(self, word, cat):\n",
    "        # P(word|cat)すべての積がP(doc|cat)になるが、少数の掛け算を繰り返すことでアンダーフローの恐れがある\n",
    "        # よって、P(word|cat)を対数化して、積の計算を和の計算に変換する\n",
    "        score = math.log(self.priorprob(cat))\n",
    "        for w in word:\n",
    "            # P(cat)+P(doc|cat)を求める\n",
    "            score += math.log(self.wordprob(w, cat))\n",
    "        return score\n",
    "    \n",
    "        \n",
    "    \n",
    "    def classifier(self, doc):\n",
    "        best = None # 最適なカテゴリ\n",
    "        max = -8045634563\n",
    "        word = mecab_split(doc)\n",
    "        \n",
    "        # 各カテゴリごとに、文書がそのカテゴリに属する確率を求める\n",
    "        for cat in self.catcount.keys():\n",
    "            prob = self.score(word, cat)\n",
    "            if prob > max:\n",
    "                max = prob\n",
    "                best = cat\n",
    "        return best"
   ]
  },
  {
   "cell_type": "code",
   "execution_count": 36,
   "metadata": {
    "ExecuteTime": {
     "end_time": "2018-11-29T08:10:12.387965Z",
     "start_time": "2018-11-29T08:10:12.353574Z"
    }
   },
   "outputs": [
    {
     "name": "stdout",
     "output_type": "stream",
     "text": [
      "ヴァンロッサム氏によって開発された. => 推定カテゴリ: Ruby\n",
      "豊富なドキュメントや豊富なライブラリがあります. => 推定カテゴリ: Python\n",
      "純粋なオブジェクト指向言語です. => 推定カテゴリ: Ruby\n",
      "Rubyはまつもとゆきひろ氏(通称Matz)により開発されました. => 推定カテゴリ: Ruby\n",
      "「機械学習 はじめよう」が始まりました. => 推定カテゴリ: 機械学習\n",
      "検索エンジンや画像認識に利用されています. => 推定カテゴリ: 機械学習\n"
     ]
    }
   ],
   "source": [
    "nb = NaiveBayes()\n",
    "\n",
    "nb.train('''Python（パイソン）は，オランダ人のグイド・ヴァンロッサムが作ったオープンソースのプログラミング言語。\n",
    "オブジェクト指向スクリプト言語の一種であり，Perlとともに欧米で広く普及している。イギリスのテレビ局 BBC が製作したコメディ番組『空飛ぶモンティパイソン』にちなんで名付けられた。\n",
    "Python は英語で爬虫類のニシキヘビの意味で，Python言語のマスコットやアイコンとして使われることがある。Pythonは汎用の高水準言語である。プログラマの生産性とコードの信頼性を重視して設計されており，核となるシンタックスおよびセマンティクスは必要最小限に抑えられている反面，利便性の高い大規模な標準ライブラリを備えている。\n",
    "Unicode による文字列操作をサポートしており，日本語処理も標準で可能である。多くのプラットフォームをサポートしており（動作するプラットフォーム），また，豊富なドキュメント，豊富なライブラリがあることから，産業界でも利用が増えつつある。''', 'Python')\n",
    "\n",
    "nb.train('''Ruby（ルビー）は，まつもとゆきひろ（通称Matz）により開発されたオブジェクト指向スクリプト言語であり，従来 Perlなどのスクリプト言語が用いられてきた領域でのオブジェクト指向プログラミングを実現する。Rubyは当初1993年2月24日に生まれ， 1995年12月にfj上で発表された。名称のRubyは，プログラミング言語Perlが6月の誕生石であるPearl（真珠）と同じ発音をすることから，まつもとの同僚の誕生石（7月）のルビーを取って名付けられた。''', 'Ruby')\n",
    "\n",
    "nb.train('''豊富な機械学習（きかいがくしゅう，Machine learning）とは，人工知能における研究課題の一つで，人間が自然に行っている学習能力と同様の機能をコンピュータで実現させるための技術・手法のことである。ある程度の数のサンプルデータ集合を対象に解析を行い，そのデータから有用な規則，ルール，知識表現，判断基準などを抽出する。データ集合を解析するため，統計学との関連も非常に深い。\n",
    "機械学習は検索エンジン，医療診断，スパムメールの検出，金融市場の予測，DNA配列の分類，音声認識や文字認識などのパターン認識，ゲーム戦略，ロボット，など幅広い分野で用いられている。応用分野の特性に応じて学習手法も適切に選択する必要があり，様々な手法が提案されている。それらの手法は， Machine Learning や IEEE Transactions on Pattern Analysis and Machine Intelligence などの学術雑誌などで発表されることが多い。''', '機械学習')\n",
    "\n",
    "#Python\n",
    "words = 'ヴァンロッサム氏によって開発された.'\n",
    "print('%s => 推定カテゴリ: %s' % (words ,nb.classifier(words)))\n",
    "\n",
    "words = '豊富なドキュメントや豊富なライブラリがあります.'\n",
    "print('%s => 推定カテゴリ: %s' % (words ,nb.classifier(words)))\n",
    "\n",
    "#Ruby\n",
    "words = '純粋なオブジェクト指向言語です.'\n",
    "print('%s => 推定カテゴリ: %s' % (words ,nb.classifier(words)))\n",
    "\n",
    "words = 'Rubyはまつもとゆきひろ氏(通称Matz)により開発されました.'\n",
    "print('%s => 推定カテゴリ: %s' % (words ,nb.classifier(words)))\n",
    "\n",
    "#機械学習\n",
    "words = '「機械学習 はじめよう」が始まりました.'\n",
    "print('%s => 推定カテゴリ: %s' % (words ,nb.classifier(words)))\n",
    "\n",
    "words = '検索エンジンや画像認識に利用されています.'\n",
    "print('%s => 推定カテゴリ: %s' % (words , nb.classifier(words)))"
   ]
  },
  {
   "cell_type": "markdown",
   "metadata": {},
   "source": [
    "**実行結果1個目の分類がミスってる、Why?**"
   ]
  },
  {
   "cell_type": "code",
   "execution_count": 35,
   "metadata": {
    "ExecuteTime": {
     "end_time": "2018-11-29T08:06:38.602664Z",
     "start_time": "2018-11-29T08:06:38.595248Z"
    }
   },
   "outputs": [
    {
     "name": "stdout",
     "output_type": "stream",
     "text": [
      "-222.29691645894027\n",
      "-367.9050970421592\n",
      "-457.5583909452782\n"
     ]
    }
   ],
   "source": [
    "print(nb.score(nb.wordcount['Ruby'], 'Python'))\n",
    "print(nb.score(nb.wordcount['Python'], 'Python'))\n",
    "print(nb.score(nb.wordcount['機械学習'], 'Python'))"
   ]
  },
  {
   "cell_type": "markdown",
   "metadata": {},
   "source": [
    "**Pythonカテゴリの学習に使ったワードリストが、PythonカテゴリよりもRubyカテゴリにおいて高い尤度になっている**  \n",
    "**サンプル量が各カテゴリ1文書ずつでは少なすぎる？**"
   ]
  }
 ],
 "metadata": {
  "kernelspec": {
   "display_name": "py27",
   "language": "python",
   "name": "py27"
  },
  "language_info": {
   "codemirror_mode": {
    "name": "ipython",
    "version": 3
   },
   "file_extension": ".py",
   "mimetype": "text/x-python",
   "name": "python",
   "nbconvert_exporter": "python",
   "pygments_lexer": "ipython3",
   "version": "3.6.6"
  },
  "toc": {
   "base_numbering": 1,
   "nav_menu": {},
   "number_sections": true,
   "sideBar": true,
   "skip_h1_title": false,
   "title_cell": "Table of Contents",
   "title_sidebar": "Contents",
   "toc_cell": false,
   "toc_position": {},
   "toc_section_display": true,
   "toc_window_display": false
  },
  "varInspector": {
   "cols": {
    "lenName": 16,
    "lenType": 16,
    "lenVar": 40
   },
   "kernels_config": {
    "python": {
     "delete_cmd_postfix": "",
     "delete_cmd_prefix": "del ",
     "library": "var_list.py",
     "varRefreshCmd": "print(var_dic_list())"
    },
    "r": {
     "delete_cmd_postfix": ") ",
     "delete_cmd_prefix": "rm(",
     "library": "var_list.r",
     "varRefreshCmd": "cat(var_dic_list()) "
    }
   },
   "types_to_exclude": [
    "module",
    "function",
    "builtin_function_or_method",
    "instance",
    "_Feature"
   ],
   "window_display": false
  }
 },
 "nbformat": 4,
 "nbformat_minor": 2
}
